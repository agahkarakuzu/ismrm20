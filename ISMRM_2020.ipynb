{
 "cells": [
  {
   "cell_type": "markdown",
   "metadata": {
    "kernel": "SoS"
   },
   "source": [
    "\n",
    "\n",
    "<img src=\"https://avatars1.githubusercontent.com/u/7755716?s=400&v=4\" height=\"100\" width=\"200\">\n",
    "\n",
    "\n",
    "<div class=\"alert alert-danger\">\n",
    "  <center><strong><span class=\"badge\">ISMRM 2020 Abstract</span></strong> <b> Thinking outside the blackbox: Disclosing every bit of a VFA T1 mapping pipeline under version control</b></center> \n",
    "</div>\n",
    "\n",
    "<img src=\"http://icons.iconarchive.com/icons/icons8/windows-8/512/Files-Add-Link-icon.png\" height=\"30\" width=\"80\">\n",
    "\n",
    "**|[Respective OSF project page](https://osf.io/a4v8h/) | [Respective GitHub repo](https://github.com/agahkarakuzu/ismrm20) | [qMRLab's OPEN PULSE SEQUENCES](https://github.com/qMRLab/pulse_sequences) | [qMRLab](https://qmrlab.org) | [About RTHawk](https://www.heartvista.ai/technology) | [Download SpinBench](https://www.heartvista.ai/spinbench) | [Neuropoly](https://www.neuro.polymtl.ca/home)|**\n",
    "<br>\n",
    "<center>\n",
    "<hr>    \n",
    "<p style=\"color:coal;font-size:16px; background-color:lightgray; display: inline-block\"> &nbsp;   <b>This Jupyter Notebook contains all the neccesary code to reproduce figures in the abstract.&nbsp;<br>\n",
    "<hr>\n",
    "<p style=\"color:black;font-size:16px;  display: inline-block\"> &nbsp; <b> You can click on&nbsp; <i class=\"fa fa-caret-right fa-2x\" style=\"color:darkgray\"></i> icons to expand/collapse sections &nbsp;</b></p> <br> \n",
    "<p style=\"color:black;font-size:16px;  display: inline-block\"> &nbsp; <b> Hidden code cells can be toggled by clicking the&nbsp;</b></p><p style=\"border:1px;border-style:solid;display:inline-block\">&nbsp;<i class=\"fa fa-chevron-up fa-1x\" style=\"color:black\"></i>&nbsp;</p><p style=\"color:black; font-size:16px;  display: inline-block\"><b>&nbsp;button in the main toolbar above.&nbsp;</b></p> <br>\n",
    "<hr>\n",
    "<p style=\"color:darkblue;font-size:16px;  display: inline-block\"> &nbsp; <b> Before you start, please hit the&nbsp;</b></p><p style=\"border:1px;border-style:solid;display:inline-block\">&nbsp;<i class=\"fa fa-calculator fa-1x\" style=\"color:black\"></i>&nbsp;</p> <p style=\"color:darkblue; font-size:16px;  display: inline-block\"><b>button in the main toolbar above.&nbsp;</b></p> <br>    \n",
    "<hr>\n",
    "</center>\n",
    "\n"
   ]
  },
  {
   "cell_type": "markdown",
   "metadata": {
    "kernel": "SoS"
   },
   "source": [
    "<div class=\"alert alert-info\">\n",
    "  <center><strong><span class=\"badge\">Open Pulse Sequence</span></strong> <b> RTHawk <code>v2.5.1</code> acquisition is performed using <code>VFA-T1</code> <code>v1.0</code> sequence at a 3T Siemens Skyra <code>VE11C</code> system. <br><br> <code>https://github.com/qMRLab/pulse_sequences/releases/tag/v1.0</code></b></center> \n",
    "</div>\n"
   ]
  },
  {
   "cell_type": "markdown",
   "metadata": {
    "heading_collapsed": true,
    "kernel": "SoS"
   },
   "source": [
    "# Download data and BIDSify\n",
    "\n",
    " ### Expand this section only if you are running this notebook locally."
   ]
  },
  {
   "cell_type": "markdown",
   "metadata": {
    "hidden": true,
    "kernel": "Python3"
   },
   "source": [
    "For running locally, you have 2 options: \n",
    "\n",
    "1) First off, you need to make sure that all the dependencies decribed by config files in this repo are properly installed on your local machine. These files are: \n",
    "* `postBuild`\n",
    "* `apt.txt` \n",
    "* `environment.yml`\n",
    "\n",
    "    As also described by `postBuild`, you'll need to have qMRLab downloaded and added to your (Octave/Matlab) search path.  \n",
    "\n",
    "2) If you have Docker installed on your computer, you can use [`repo2docker`](https://github.com/jupyter/repo2docker):\n",
    "\n",
    "```\n",
    "repo2docker --user-name jovyan https://github.com/agahkarakuzu/ismrm20.git\n",
    "```\n",
    "\n",
    "#### After following these steps, you run the next cell to download data from OSF (required) and parse data (optional). \n"
   ]
  },
  {
   "cell_type": "code",
   "execution_count": null,
   "metadata": {
    "hidden": true,
    "kernel": "Python3"
   },
   "outputs": [],
   "source": [
    "%use Octave\n",
    "getDataFromOSF;\n",
    "# You can repeat data parsing by commenting in the following line. \n",
    "#parseData('./data')"
   ]
  },
  {
   "cell_type": "markdown",
   "metadata": {
    "heading_collapsed": true,
    "kernel": "SoS"
   },
   "source": [
    "# Perform VFA T1 fitting (Required)\n",
    "\n",
    "- Since data is formatted in BIDS, qMRLab can perform fitting with a single line of code. \n",
    "- You can visit [here](https://github.com/bids-standard/bep001) to find more about BIDS for quantitative MRI. \n",
    "\n"
   ]
  },
  {
   "cell_type": "code",
   "execution_count": null,
   "metadata": {
    "hidden": true,
    "hide_input": true,
    "kernel": "Python3"
   },
   "outputs": [],
   "source": [
    "%use Python3\n",
    "# Load python packages\n",
    "print('Executed automatically');\n",
    "print('Cell to import python modules. To show, select the cell and click arrow up icon in the toolbar.');\n",
    "import plotly.graph_objs as go\n",
    "import plotly_express as px\n",
    "from plotly import tools, subplots\n",
    "import numpy as np\n",
    "import ipywidgets as widgets\n",
    "import math\n",
    "from plotly.offline import download_plotlyjs, init_notebook_mode, plot, iplot\n",
    "from ipywidgets import interact, interactive, fixed, interact_manual\n",
    "init_notebook_mode(connected=True)\n",
    "from IPython.display import display, clear_output\n",
    "from IPython.display import IFrame\n",
    "from IPython.core.magics.display import Javascript"
   ]
  },
  {
   "cell_type": "code",
   "execution_count": null,
   "metadata": {
    "hidden": true,
    "hide_input": true,
    "kernel": "Python3"
   },
   "outputs": [],
   "source": [
    "%use Python3\n",
    "# This is a Python3 cell to create an interactive figure. \n",
    "# Here we use %get magic function to migrate variables from the Octave workspace into Python\n",
    "print('Executed automatically');\n",
    "print('Cell to define some Plotly functions. To show, select the cell and click arrow up icon in the toolbar.');\n",
    "\n",
    "def heatmap_trace(inp, name, xlen, ylen, clrmax, clrmin, clrscale):\n",
    "    trace = go.Heatmap( z =inp,\n",
    "                        y = list(range(xlen-1)),\n",
    "                        x = list(range(ylen-1)),\n",
    "                        colorscale=clrscale,\n",
    "                        showscale = True,\n",
    "                        zmax=clrmax,\n",
    "                        zmin=clrmin,\n",
    "                        colorbar=dict(\n",
    "                        tickfont=dict(\n",
    "                            size=14,\n",
    "                            color='white'\n",
    "                        )),\n",
    "                        name = name);\n",
    "    return trace\n",
    "\n",
    "def heatmap_trace2(inp, name, xlen, ylen, clrscale):\n",
    "    trace = go.Heatmap( z =inp,\n",
    "                        y = list(range(xlen-1)),\n",
    "                        x = list(range(ylen-1)),\n",
    "                        colorscale=clrscale,\n",
    "                        showscale = False,\n",
    "                        name = name);\n",
    "    return trace"
   ]
  },
  {
   "cell_type": "code",
   "execution_count": null,
   "metadata": {
    "hidden": true,
    "kernel": "Octave"
   },
   "outputs": [],
   "source": [
    "%use Octave\n",
    "warning('off','all'); # Supress path warnings. \n",
    "qMRFit_BIDS('./data/ds-nist');\n",
    "disp('Outputs are saved to ./data/ds-nist/derivatives/qMRLAb directory.');"
   ]
  },
  {
   "cell_type": "markdown",
   "metadata": {
    "heading_collapsed": true,
    "kernel": "Octave"
   },
   "source": [
    "# Mask images (Required)\n",
    "\n",
    "* Ensure that all the spheres are sampled by 75 voxels."
   ]
  },
  {
   "cell_type": "code",
   "execution_count": null,
   "metadata": {
    "hidden": true,
    "kernel": "Octave"
   },
   "outputs": [],
   "source": [
    "%use Octave \n",
    "rthT1 = load_nii_data('./data/ds-nist/derivatives/qMRLab/sub-01/sub-01_acq-rthawk_T1map.nii.gz');\n",
    "sieT1 = load_nii_data('./data/ds-nist/derivatives/qMRLab/sub-01/sub-01_acq-siemens_T1map.nii.gz');\n",
    "\n",
    "% Load labeled masks \n",
    "rthMask = load_nii_data('./data/masks/sub-01_acq-rthawk_mask.nii.gz');\n",
    "sieMask = load_nii_data('./data/masks/sub-01_acq-siemens_mask.nii.gz');\n",
    "\n",
    "% Generate reference \n",
    "refvals = csvread('./System_Phantom/phantom_reference.csv');\n",
    "refvals = flip(refvals);\n",
    "refIm = sieMask;\n",
    "\n",
    "\n",
    "% Confine analysis to 75 voxels per sphere. \n",
    "refim = zeros(256,56);\n",
    "sieTmp = zeros(256,256);\n",
    "rthTmp = sieTmp;\n",
    "sieVec = zeros(75,10);\n",
    "rthVec = sieVec; \n",
    "refVec = sieVec; \n",
    "\n",
    "for ii=1:10\n",
    "% Reference image \n",
    "idx = find(sieMask(:)==ii); \n",
    "idx = idx(1:75);\n",
    "refIm(idx) = normrnd(refvals(ii,2),refvals(ii,3),[1,75]);\n",
    "refVec(:,ii) = refIm(idx);\n",
    "% Siemens T1 (still the same idx) \n",
    "sieTmp(idx) = sieT1(idx);\n",
    "sieVec(:,ii) = sieT1(idx);\n",
    "% Rth T1 (we need new indexes, masks are different) \n",
    "idx = find(rthMask(:)==ii); \n",
    "idx = idx(1:75);\n",
    "rthTmp(idx) = rthT1(idx);\n",
    "rthVec(:,ii) = rthT1(idx);\n",
    "end\n",
    "\n",
    "refIm = double(refIm)./1000;\n",
    "refVec = double(refVec)./1000;\n",
    "% Update images to contain speres only.\n",
    "sieT1 = sieTmp;\n",
    "rthT1 = rthTmp; \n"
   ]
  },
  {
   "cell_type": "markdown",
   "metadata": {
    "heading_collapsed": true,
    "hide_input": true,
    "kernel": "Octave"
   },
   "source": [
    "# Display images (Suggested)\n",
    "\n",
    "* Regenerate Figures from the study."
   ]
  },
  {
   "cell_type": "code",
   "execution_count": null,
   "metadata": {
    "hidden": true,
    "kernel": "Octave"
   },
   "outputs": [],
   "source": [
    "%use Octave \n",
    "\n",
    "# Use BIDS module to read data\n",
    "BIDS = bids.layout('./data/ds-nist');\n",
    "\n",
    "rth1 = load_nii_data(cell2mat(bids.query(BIDS,'data','sub','01','acq','rthawk','fa','1')));\n",
    "rth2 = load_nii_data(cell2mat(bids.query(BIDS,'data','sub','01','acq','rthawk','fa','2')));\n",
    "\n",
    "sie1 = load_nii_data(cell2mat(bids.query(BIDS,'data','sub','01','acq','siemens','fa','1')));\n",
    "sie2 = load_nii_data(cell2mat(bids.query(BIDS,'data','sub','01','acq','siemens','fa','2')));"
   ]
  },
  {
   "cell_type": "code",
   "execution_count": null,
   "metadata": {
    "hidden": true,
    "hide_input": true,
    "kernel": "Python3"
   },
   "outputs": [],
   "source": [
    "%use Python3 \n",
    "%get rth1 --from Octave \n",
    "%get rth2 --from Octave \n",
    "%get sie1 --from Octave \n",
    "%get sie2 --from Octave \n",
    "\n",
    "# Pass variables to Python for interactive visualization. \n",
    "\n",
    "fig = subplots.make_subplots(rows=2, cols=2, print_grid=False,vertical_spacing = 0.02, horizontal_spacing=0.04)\n",
    "\n",
    "fig.append_trace(heatmap_trace(sie1, 'Siemens FA3',256,256, 3000, 3000,'Viridis'),1,1)\n",
    "fig.append_trace(heatmap_trace(sie2, 'Siemens FA20',256,256, 3000, 3000,'Viridis'),2,1)\n",
    "\n",
    "fig.append_trace(heatmap_trace(rth1, 'RTHawk FA3',256,256, 30, 30,'Viridis'),1,2)\n",
    "fig.append_trace(heatmap_trace(rth2, 'RTHAwk FA20',256,256, 30, 30,'Viridis'),2,2)\n",
    "\n",
    "\n",
    "fig.update_layout(height=800, width=800, paper_bgcolor='#000000')\n",
    "\n",
    "for ii in range(4):\n",
    "    exec('fig[\\'layout\\'][\\'xaxis' + str(ii+1) + '\\'].update(showgrid = False, showline=False, zeroline = False, showticklabels = False, ticks = \\'\\')')\n",
    "    exec('fig[\\'layout\\'][\\'yaxis' + str(ii+1) + '\\'].update(showgrid = False, zeroline = False, showline=False, showticklabels = False, ticks = \\'\\')')\n",
    "\n",
    "fig.update_xaxes(title=dict(text='<b>SIEMENS</b>',font=dict(color=\"white\")), row=1, col=1, side='top')\n",
    "fig.update_xaxes(title=dict(text='<b>RTHawk</b>',font=dict(color=\"white\")), row=1, col=2, side='top')\n",
    "\n",
    "fig.update_yaxes(title=dict(text='<b>FlipAngle 3</b>',font=dict(color=\"white\")), row=1, col=1)\n",
    "fig.update_yaxes(title=dict(text='<b>FlipAngle 20</b>',font=dict(color=\"white\")), row=2, col=1)\n",
    "\n",
    "print('Click on this cell and run to generate figure.')\n",
    "print('You can display the hidden content by clicking arrow up icon in the toolbar.')\n",
    "#plot(fig,filename='fig3.html')\n",
    "iplot(fig)\n"
   ]
  },
  {
   "cell_type": "code",
   "execution_count": null,
   "metadata": {
    "hidden": true,
    "hide_input": true,
    "kernel": "Python3"
   },
   "outputs": [],
   "source": [
    "%use Python3 \n",
    "%get refIm --from Octave \n",
    "%get rthT1 --from Octave \n",
    "%get sieT1 --from Octave \n",
    "%get refVec --from Octave \n",
    "%get rthVec --from Octave \n",
    "%get sieVec --from Octave \n",
    "\n",
    "fig = subplots.make_subplots(rows=1, cols=3, print_grid=False,vertical_spacing = 0.02, horizontal_spacing=0.04)\n",
    "\n",
    "fig.append_trace(heatmap_trace(sieT1, 'Siemens T1',256,256, 0, 2,'Viridis'),1,1)\n",
    "fig.append_trace(heatmap_trace(refIm, 'Reference T1',256,256, 0, 2,'Viridis'),1,2)\n",
    "fig.append_trace(heatmap_trace(rthT1, 'RTHawk T1',256,256, 0, 2,'Viridis'),1,3)\n",
    "\n",
    "\n",
    "\n",
    "fig.update_layout(height=450, width=1000, paper_bgcolor='#000000')\n",
    "\n",
    "for ii in range(3):\n",
    "    exec('fig[\\'layout\\'][\\'xaxis' + str(ii+1) + '\\'].update(showgrid = False, showline=False, zeroline = False, showticklabels = False, ticks = \\'\\')')\n",
    "    exec('fig[\\'layout\\'][\\'yaxis' + str(ii+1) + '\\'].update(showgrid = False, zeroline = False, showline=False, showticklabels = False, ticks = \\'\\')')\n",
    "\n",
    "fig.update_xaxes(title=dict(text='<b>SIEMENS T1</b>',font=dict(color=\"white\")), row=1, col=1, side='top')\n",
    "fig.update_xaxes(title=dict(text='<b>Reference T1</b>',font=dict(color=\"white\")), row=1, col=2, side='top')\n",
    "fig.update_xaxes(title=dict(text='<b>RTHawk T1</b>',font=dict(color=\"white\")), row=1, col=3, side='top')\n",
    "\n",
    "\n",
    "print('Click on this cell and run to generate figure.')\n",
    "print('You can display the hidden content by clicking arrow up icon in the toolbar.')\n",
    "#plot(fig,filename='fig4_2.html')\n",
    "iplot(fig)"
   ]
  },
  {
   "cell_type": "code",
   "execution_count": null,
   "metadata": {
    "hidden": true,
    "hide_input": true,
    "kernel": "Python3"
   },
   "outputs": [],
   "source": [
    "x = [1, 2, 3, 4, 5, 6, 7, 8, 9, 10]\n",
    "x_rev = x[::-1]\n",
    "\n",
    "# Line 1\n",
    "y1 = list(np.squeeze(np.array(sieVec.mean(0))))\n",
    "y1_upper = list(np.squeeze(np.array(sieVec.mean(0))) + np.squeeze(np.array(sieVec.std(0))))\n",
    "y1_lower = list(np.squeeze(np.array(sieVec.mean(0))) - np.squeeze(np.array(sieVec.std(0))))\n",
    "y1_lower = y1_lower[::-1]\n",
    "\n",
    "# Line 2\n",
    "y2 = list(np.squeeze(np.array(refVec.mean(0)))) \n",
    "y2_upper = list(np.squeeze(np.array(refVec.mean(0))) + np.squeeze(np.array(refVec.std(0))))\n",
    "y2_lower = list(np.squeeze(np.array(refVec.mean(0))) - np.squeeze(np.array(refVec.std(0))))\n",
    "y2_lower = y2_lower[::-1]\n",
    "\n",
    "# Line 3\n",
    "y3 = list(np.squeeze(np.array(rthVec.mean(0))))\n",
    "y3_upper = list(np.squeeze(np.array(rthVec.mean(0))) + np.squeeze(np.array(rthVec.std(0))))\n",
    "y3_lower = list(np.squeeze(np.array(rthVec.mean(0))) - np.squeeze(np.array(rthVec.std(0))))\n",
    "y3_lower = y3_lower[::-1]\n",
    "\n",
    "\n",
    "fig = go.Figure()\n",
    "\n",
    "fig.add_trace(go.Scatter(\n",
    "    x=x+x_rev,\n",
    "    y=y1_upper+y1_lower,\n",
    "    fill='toself',\n",
    "    fillcolor='rgba(0,255,255,0.4)',\n",
    "    line_color='rgba(255,255,255,0)',\n",
    "    showlegend=False,\n",
    "    name='Siemens',\n",
    "))\n",
    "\n",
    "fig.add_trace(go.Scatter(\n",
    "    x=x+x_rev,\n",
    "    y=y3_upper+y3_lower,\n",
    "    fill='toself',\n",
    "    fillcolor='rgba(255,0,0,0.4)',\n",
    "    line_color='rgba(255,255,255,0)',\n",
    "    showlegend=False,\n",
    "    name='RTHawk',\n",
    "))\n",
    "fig.add_trace(go.Scatter(\n",
    "    x=x, y=y1,\n",
    "    line_color='rgb(0,255,255)',\n",
    "    name='Siemens',\n",
    "    marker = dict(size=10),\n",
    "\n",
    "\n",
    "))\n",
    "\n",
    "fig.add_trace(go.Scatter(\n",
    "    x=x, y=y3,\n",
    "    line_color='rgb(250,0,0)',\n",
    "    name='RTHawk',\n",
    "    marker = dict(size=10),\n",
    "))\n",
    "\n",
    "fig.add_trace(go.Scatter(\n",
    "    x=x, y=y2,\n",
    "    line_color='white',\n",
    "    mode = 'markers',\n",
    "    name = 'Reference',\n",
    "    marker = dict(size=15,symbol='cross-open'),\n",
    "))\n",
    "\n",
    "fig.update_layout(height=500, width=1000, paper_bgcolor='#000000',plot_bgcolor='#000000')\n",
    "fig.update_layout(legend=dict(x=1, y=1,tracegroupgap=300,font=dict(color=\"white\")))\n",
    "axis_template = dict(linecolor = 'black', showticklabels = True,\n",
    "             tickfont=dict(color=\"white\"), gridcolor = 'rgb(20,20,20)',zerolinecolor = 'rgb(40,40,40)' )\n",
    "fig.update_xaxes(axis_template)\n",
    "fig.update_yaxes(axis_template,gridcolor = 'rgb(60,60,60)')\n",
    "\n",
    "#fig.update_traces(mode='lines')\n",
    "\n",
    "\n",
    "\n",
    "fig.update_yaxes(tickvals=np.round(y2,2))\n",
    "fig.update_xaxes(tickvals=x)\n",
    "\n",
    "print('Click on this cell and run to generate figure.')\n",
    "print('You can display the hidden content by clicking arrow up icon in the toolbar.')\n",
    "fig.show()"
   ]
  }
 ],
 "metadata": {
  "celltoolbar": "Initialization Cell",
  "kernelspec": {
   "display_name": "SoS",
   "language": "sos",
   "name": "sos"
  },
  "language_info": {
   "codemirror_mode": "sos",
   "file_extension": ".sos",
   "mimetype": "text/x-sos",
   "name": "sos",
   "nbconvert_exporter": "sos_notebook.converter.SoS_Exporter",
   "pygments_lexer": "sos"
  },
  "sos": {
   "kernels": [
    [
     "Octave",
     "octave",
     "Octave",
     "#dff8fb",
     ""
    ],
    [
     "Python3",
     "python3",
     "Python3",
     "#FFD91A",
     {
      "name": "ipython",
      "version": 3
     }
    ]
   ],
   "panel": {
    "displayed": false,
    "height": 0
   },
   "version": "0.20.7"
  }
 },
 "nbformat": 4,
 "nbformat_minor": 2
}
